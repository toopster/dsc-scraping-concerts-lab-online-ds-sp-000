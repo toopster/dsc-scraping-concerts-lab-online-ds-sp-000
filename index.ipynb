{
 "cells": [
  {
   "cell_type": "markdown",
   "metadata": {},
   "source": [
    "# Scraping Concerts - Lab\n",
    "\n",
    "## Introduction\n",
    "\n",
    "Now that you've seen how to scrape a simple website, it's time to again practice those skills on a full-fledged site!\n",
    "In this lab, you'll practice your scraping skills on a music website: https://www.residentadvisor.net.\n",
    "## Objectives\n",
    "\n",
    "You will be able to:\n",
    "* Create a full scraping pipeline that involves traversing over many pages of a website, dealing with errors and storing data"
   ]
  },
  {
   "cell_type": "markdown",
   "metadata": {},
   "source": [
    "## View the Website\n",
    "\n",
    "For this lab, you'll be scraping the https://www.residentadvisor.net website. Start by navigating to the events page [here](https://www.residentadvisor.net/events) in your browser.\n",
    "\n",
    "<img src=\"images/ra.png\">"
   ]
  },
  {
   "cell_type": "code",
   "execution_count": null,
   "metadata": {},
   "outputs": [],
   "source": [
    "# Load the https://www.residentadvisor.net/events page in your browser."
   ]
  },
  {
   "cell_type": "markdown",
   "metadata": {},
   "source": [
    "## Open the Inspect Element Feature\n",
    "\n",
    "Next, open the inspect element feature from your web browser in order to preview the underlying HTML associated with the page."
   ]
  },
  {
   "cell_type": "code",
   "execution_count": null,
   "metadata": {},
   "outputs": [],
   "source": [
    "# Open the inspect element feature in your browser"
   ]
  },
  {
   "cell_type": "markdown",
   "metadata": {},
   "source": [
    "## Write a Function to Scrape all of the Events on the Given Page Events Page\n",
    "\n",
    "The function should return a Pandas DataFrame with columns for the Event_Name, Venue, Event_Date and Number_of_Attendees."
   ]
  },
  {
   "cell_type": "code",
   "execution_count": 79,
   "metadata": {},
   "outputs": [],
   "source": [
    "def scrape_events(events_page_url):\n",
    "    events_page = requests.get(events_page_url)\n",
    "    events_soup = BeautifulSoup(events_page.content, 'html.parser')\n",
    "    events_listing = events_soup.find('div', id=\"event-listing\")\n",
    "    \n",
    "    #Finding the event names\n",
    "    event_titles = [h1.find('a').string for h1 in events_listing.findAll('h1')]\n",
    "    \n",
    "    #Finding the event venues\n",
    "    event_venues = [h1.find('span').contents[1].string for h1 in events_listing.findAll('h1')]\n",
    "    \n",
    "    #Finding the event dates\n",
    "    event_dates = [parse(article.find('time').attrs['datetime']).strftime('%d-%m-%Y') \n",
    "                   for article in events_listing.findAll('article')]\n",
    "    \n",
    "    #Finding the event attendees\n",
    "    event_attendees = []\n",
    "    for article in events_listing.findAll('article'):\n",
    "        if article.find('p', class_=\"attending\"):\n",
    "            event_attendees.append(int(article.find('p', class_=\"attending\").contents[0].string))\n",
    "        else:\n",
    "            event_attendees.append(0)\n",
    "        \n",
    "    df = pd.DataFrame([event_titles, event_venues, event_dates, event_attendees]).transpose()\n",
    "    df.columns = [\"Event_Name\", \"Venue\", \"Event_Date\", \"Number_of_Attendees\"]\n",
    "    return df"
   ]
  },
  {
   "cell_type": "markdown",
   "metadata": {},
   "source": [
    "## Write a Function to Retrieve the URL for the Next Page"
   ]
  },
  {
   "cell_type": "code",
   "execution_count": 80,
   "metadata": {},
   "outputs": [],
   "source": [
    "def next_page(url):\n",
    "    events_page = requests.get(url)\n",
    "    events_soup = BeautifulSoup(events_page.content, 'html.parser')\n",
    "    \n",
    "    domain_url = urlparse(url).scheme + \"://\" + urlparse(url).netloc\n",
    "    next_page_rel_url = events_soup.find('a', attrs={'ga-event-action':\"Next \"}).attrs['href']\n",
    "    next_page_url = domain_url + next_page_rel_url\n",
    "    \n",
    "    return next_page_url"
   ]
  },
  {
   "cell_type": "markdown",
   "metadata": {},
   "source": [
    "## Scrape the Next 1000 Events for Your Area\n",
    "\n",
    "Display the data sorted by the number of attendees. If there is a tie for the number attending, sort by event date."
   ]
  },
  {
   "cell_type": "code",
   "execution_count": 87,
   "metadata": {},
   "outputs": [
    {
     "name": "stdout",
     "output_type": "stream",
     "text": [
      "500\n"
     ]
    },
    {
     "data": {
      "text/html": [
       "<div>\n",
       "<style scoped>\n",
       "    .dataframe tbody tr th:only-of-type {\n",
       "        vertical-align: middle;\n",
       "    }\n",
       "\n",
       "    .dataframe tbody tr th {\n",
       "        vertical-align: top;\n",
       "    }\n",
       "\n",
       "    .dataframe thead th {\n",
       "        text-align: right;\n",
       "    }\n",
       "</style>\n",
       "<table border=\"1\" class=\"dataframe\">\n",
       "  <thead>\n",
       "    <tr style=\"text-align: right;\">\n",
       "      <th></th>\n",
       "      <th>Event_Name</th>\n",
       "      <th>Venue</th>\n",
       "      <th>Event_Date</th>\n",
       "      <th>Number_of_Attendees</th>\n",
       "    </tr>\n",
       "  </thead>\n",
       "  <tbody>\n",
       "    <tr>\n",
       "      <td>0</td>\n",
       "      <td>Percolate presents Horse Meat Disco</td>\n",
       "      <td>The Brixton Courtyard</td>\n",
       "      <td>19-08-2020</td>\n",
       "      <td>5</td>\n",
       "    </tr>\n",
       "    <tr>\n",
       "      <td>1</td>\n",
       "      <td>DJ Tutorials (The London DJ School)</td>\n",
       "      <td>Egg London</td>\n",
       "      <td>19-08-2020</td>\n",
       "      <td>2</td>\n",
       "    </tr>\n",
       "    <tr>\n",
       "      <td>2</td>\n",
       "      <td>Venue MOT: Hot Desk</td>\n",
       "      <td>Venue MOT Unit 18</td>\n",
       "      <td>19-08-2020</td>\n",
       "      <td>1</td>\n",
       "    </tr>\n",
       "    <tr>\n",
       "      <td>3</td>\n",
       "      <td>Engage Audio presents Liquid Sessions at Costa...</td>\n",
       "      <td>The Cause</td>\n",
       "      <td>20-08-2020</td>\n",
       "      <td>20</td>\n",
       "    </tr>\n",
       "    <tr>\n",
       "      <td>4</td>\n",
       "      <td>Venue MOT: Hot Desk</td>\n",
       "      <td>Venue MOT Unit 18</td>\n",
       "      <td>20-08-2020</td>\n",
       "      <td>1</td>\n",
       "    </tr>\n",
       "  </tbody>\n",
       "</table>\n",
       "</div>"
      ],
      "text/plain": [
       "                                          Event_Name                  Venue  \\\n",
       "0                Percolate presents Horse Meat Disco  The Brixton Courtyard   \n",
       "1                DJ Tutorials (The London DJ School)             Egg London   \n",
       "2                                Venue MOT: Hot Desk      Venue MOT Unit 18   \n",
       "3  Engage Audio presents Liquid Sessions at Costa...              The Cause   \n",
       "4                                Venue MOT: Hot Desk      Venue MOT Unit 18   \n",
       "\n",
       "   Event_Date Number_of_Attendees  \n",
       "0  19-08-2020                   5  \n",
       "1  19-08-2020                   2  \n",
       "2  19-08-2020                   1  \n",
       "3  20-08-2020                  20  \n",
       "4  20-08-2020                   1  "
      ]
     },
     "execution_count": 87,
     "metadata": {},
     "output_type": "execute_result"
    }
   ],
   "source": [
    "from bs4 import BeautifulSoup\n",
    "import requests\n",
    "import re\n",
    "import pandas as pd\n",
    "import time\n",
    "from datetime import datetime\n",
    "from dateutil.parser import parse\n",
    "from urllib.parse import urlparse\n",
    "\n",
    "all_events = []\n",
    "total_rows = 0\n",
    "events_url = \"https://www.residentadvisor.net/events\"\n",
    "while total_rows <= 500:\n",
    "    page_events = scrape_events(events_url)\n",
    "    all_events.append(page_events)\n",
    "    total_rows += len(page_events)\n",
    "    events_url = next_page(events_url)\n",
    "    time.sleep(.2)\n",
    "df = pd.concat(all_events)\n",
    "df = df.iloc[:500]\n",
    "print(len(df))\n",
    "df.head()"
   ]
  },
  {
   "cell_type": "markdown",
   "metadata": {},
   "source": [
    "## Summary \n",
    "\n",
    "Congratulations! In this lab, you successfully developed a pipeline to scrape a website for concert event information!"
   ]
  }
 ],
 "metadata": {
  "kernelspec": {
   "display_name": "Python 3",
   "language": "python",
   "name": "python3"
  },
  "language_info": {
   "codemirror_mode": {
    "name": "ipython",
    "version": 3
   },
   "file_extension": ".py",
   "mimetype": "text/x-python",
   "name": "python",
   "nbconvert_exporter": "python",
   "pygments_lexer": "ipython3",
   "version": "3.6.9"
  }
 },
 "nbformat": 4,
 "nbformat_minor": 2
}
